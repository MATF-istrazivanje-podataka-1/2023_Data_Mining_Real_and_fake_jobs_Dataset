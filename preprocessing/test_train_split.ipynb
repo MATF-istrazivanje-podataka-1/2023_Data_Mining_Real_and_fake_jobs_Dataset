{
 "cells": [
  {
   "cell_type": "markdown",
   "id": "2a5e01f9-682f-4dd8-bf6e-4a01eb860b51",
   "metadata": {},
   "source": [
    "## Podela podataka za treniranje i test"
   ]
  },
  {
   "cell_type": "code",
   "execution_count": 6,
   "id": "5f219a99-b67e-4d5f-91a3-6ae3ba52b60f",
   "metadata": {},
   "outputs": [],
   "source": [
    "import pandas as pd\n",
    "from sklearn.model_selection import train_test_split"
   ]
  },
  {
   "cell_type": "code",
   "execution_count": 7,
   "id": "400d221f-cdcc-4b43-a113-0473a5edc524",
   "metadata": {},
   "outputs": [
    {
     "data": {
      "text/plain": [
       "Index(['job_id', 'title', 'location', 'department', 'salary_range',\n",
       "       'company_profile', 'description', 'requirements', 'benefits',\n",
       "       'telecommuting', 'has_company_logo', 'has_questions', 'employment_type',\n",
       "       'required_experience', 'required_education', 'industry', 'function',\n",
       "       'fraudulent'],\n",
       "      dtype='object')"
      ]
     },
     "execution_count": 7,
     "metadata": {},
     "output_type": "execute_result"
    }
   ],
   "source": [
    "df = pd.read_csv('../dataset/fake_job_postings.csv')\n",
    "df.columns"
   ]
  },
  {
   "cell_type": "code",
   "execution_count": 8,
   "id": "4c3b611e-e903-4634-81ac-3a291be2e385",
   "metadata": {},
   "outputs": [],
   "source": [
    "X = df.drop('fraudulent', axis=1)\n",
    "y = df['fraudulent']\n",
    "\n",
    "X_train, X_test, y_train, y_test = train_test_split(X, y, test_size=0.33, random_state=42, stratify=y)"
   ]
  },
  {
   "cell_type": "code",
   "execution_count": 9,
   "id": "c7c7b279-480a-4a1d-8867-8947bba14279",
   "metadata": {},
   "outputs": [],
   "source": [
    "train = pd.concat([X_train, y_train], axis=1)\n",
    "train.to_csv('../dataset/train.csv', index=False)\n",
    "test = pd.concat([X_test, y_test], axis=1)\n",
    "test.to_csv('../dataset/test.csv', index=False)"
   ]
  }
 ],
 "metadata": {
  "kernelspec": {
   "display_name": "Python 3 (ipykernel)",
   "language": "python",
   "name": "python3"
  },
  "language_info": {
   "codemirror_mode": {
    "name": "ipython",
    "version": 3
   },
   "file_extension": ".py",
   "mimetype": "text/x-python",
   "name": "python",
   "nbconvert_exporter": "python",
   "pygments_lexer": "ipython3",
   "version": "3.11.3"
  }
 },
 "nbformat": 4,
 "nbformat_minor": 5
}
